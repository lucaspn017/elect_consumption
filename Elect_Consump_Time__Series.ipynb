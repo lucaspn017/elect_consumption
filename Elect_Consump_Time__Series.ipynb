{
  "nbformat": 4,
  "nbformat_minor": 0,
  "metadata": {
    "colab": {
      "provenance": [],
      "authorship_tag": "ABX9TyO+teQOQVh+3xLlrNxPeOAk",
      "include_colab_link": true
    },
    "kernelspec": {
      "name": "python3",
      "display_name": "Python 3"
    },
    "language_info": {
      "name": "python"
    }
  },
  "cells": [
    {
      "cell_type": "markdown",
      "metadata": {
        "id": "view-in-github",
        "colab_type": "text"
      },
      "source": [
        "<a href=\"https://colab.research.google.com/github/lucaspn017/elect_consumption/blob/main/Elect_Consump_Time__Series.ipynb\" target=\"_parent\"><img src=\"https://colab.research.google.com/assets/colab-badge.svg\" alt=\"Open In Colab\"/></a>"
      ]
    },
    {
      "cell_type": "markdown",
      "source": [
        "<h1> Energy Consumption Analysis. <h1>\n",
        "\n",
        "- <h3> This program is intended to be a data calculation method for estimating the energy consumption for a group A unit. <h3>\n",
        "\n",
        "- <h3> Basically, there are two times when the energy rate will change: peak time and off-peak. In this way, I need to separate the values for these two moments. <h3>"
      ],
      "metadata": {
        "id": "oy8o203H8EGV"
      }
    },
    {
      "cell_type": "code",
      "execution_count": null,
      "metadata": {
        "id": "kA5uH7I56Q_b"
      },
      "outputs": [],
      "source": [
        "import pandas as pd\n",
        "import numpy as np\n",
        "import datetime as datetime"
      ]
    },
    {
      "cell_type": "code",
      "source": [
        " # The data i received used '.' instead of ',' to separate decimal numbers.\n",
        " # It´s necessary to modify this.\n",
        "\n",
        " paths = glob('datas\\*')\n",
        "\n",
        " for path in paths:\n",
        "  with open(path,'r') as f:\n",
        "    # The datas have names parcially equals, in that way, i\n",
        "    # had to modify just one part.\n",
        "    with open('original_datas' + path[12:-4] + 'csv', 'w') as f2:\n",
        "      # I change the names of columns\n",
        "      f2.write('Datetime,FaseA,FaseB,FaseC,Total\\n')\n",
        "      for i, line in enumerate(f.readlines()):\n",
        "\n",
        "        if i != 0:\n",
        "          row = line.replace(',','.').replace(';',',')\n",
        "          f2.write(row)"
      ],
      "metadata": {
        "id": "Z6zcfmlb60JQ"
      },
      "execution_count": null,
      "outputs": []
    },
    {
      "cell_type": "code",
      "source": [
        "path_pa = glob('original_datas\\*_first_*')[0]\n",
        "path_pf = glob('original_datas\\*_second_*')[0]"
      ],
      "metadata": {
        "id": "b9buYrcAi2Y-"
      },
      "execution_count": null,
      "outputs": []
    },
    {
      "cell_type": "code",
      "source": [
        "path_pa = pd.read_csv(path_pa)\n",
        "\n",
        "# Datetime is not the table index. I have to make it.\n",
        "path_pa.index = pd.to_datetime(path_pa['Datetime'])\n",
        "path_pa = path_pa.drop(['Datetime'], axis=1)\n",
        "path_pa = path_pa.resample('10min').mean().fillna('pad')\n",
        "\n",
        "path_pa['Time'] = pd.DataFrame(list(map(lambda x: path_pa.index.time(), path_pa.index)), index = path_pa)"
      ],
      "metadata": {
        "id": "qQzTm5U-jypU"
      },
      "execution_count": null,
      "outputs": []
    },
    {
      "cell_type": "code",
      "source": [
        "path_pf = pd.read_csv(path_pf)\n",
        "\n",
        "path_pf.index = pd.to_datetime(path_pf['Datetime'])\n",
        "path_pf = path_pa.drop(['Datetime'], axis= 1)\n",
        "path_pf = path_pf.resample('10min').resample('1h').mean().fillna('pad')\n",
        "path_pf['Time'] = pd.DataFrame(list(map(lambda x: path_pf.index.time(), path_pf.index)), index = path_pf)"
      ],
      "metadata": {
        "id": "Pa30BNfmrbba"
      },
      "execution_count": null,
      "outputs": []
    },
    {
      "cell_type": "code",
      "source": [
        "# There are different rates charged according to specific intervals in the day.\n",
        "\n",
        "initial = datetime.strptime('18:30:00', '%H:%M:%S').time()\n",
        "final = datetime.strptime('21:30:00', '%H:%M:%S').time()"
      ],
      "metadata": {
        "id": "e8mc2yGcu-PE"
      },
      "execution_count": null,
      "outputs": []
    },
    {
      "cell_type": "code",
      "source": [
        "consump_op = pd.DataFrame(columns=['consump_low'])\n",
        "consump_ip = pd.DataFrame(columns=['consump_high'])\n",
        "\n",
        "# I receive datas that areh usually on the same year/month basis,\n",
        "# but i thought it necessary to create a generic code.\n",
        "\n",
        "for year in np.unique(np.array(list(map(lambda x: x.year, path_pa.index)))):\n",
        "  for month in np.unique(np.array(list(map(lambda x: x.month, path_pa.index)))):\n",
        "    for day in np.unique(np.array(list(map(lambda x: x.day, path_pa.index)))):\n",
        "      for hour in np.unique(list(map(lambda x: x.hour, path_pa.index))):\n",
        "        # These values must be operated with corresponding periods.\n",
        "\n",
        "        func_ip = lambda x: (x['Time']>=initial) & (x['Time']<=final) & (x.index.year==year) & (x.index.month==month) & (x.index.day==day) & (x.index.hour==hour)\n",
        "        func_op = lambda x: ((x['Time']<initial) | (x['Time']>final)) & (x.index.year==year) & (x.index.month==month) & (x.index.day==day) & (x.index.hour==hour)\n",
        "\n",
        "        if(hour>=18)&(hour<=21):\n",
        "          consump_ip.loc[pd.to_datetime(datetime(year=year,month=month,day=day,hour=hour,minute=0))]=np.trapz(path_pf.loc[func_ip]['Total'].values, dx=1/6)\n",
        "        if(hour<18)|(hour>21):\n",
        "          consump_op.loc[pd.to_datetime(datetime(year=year,month=month,day=day,hour=hour,minute=0))]=np.trapz(path_pa.loc[func_op]['Total'].values, dx=1/6)\n"
      ],
      "metadata": {
        "id": "Xm-ptiT6JE6C"
      },
      "execution_count": null,
      "outputs": []
    },
    {
      "cell_type": "code",
      "source": [
        "consump_ip['Time'] = pd.DataFrame(list(map(lambda x: x.time(), consump_ip.index)), index=consump_ip.index)\n",
        "consump_op['Time'] = pd.DataFrame(list(map(lambda x: x.time(), consump_op.index)), index=consump_op.index)"
      ],
      "metadata": {
        "id": "tHgPj1rptzwD"
      },
      "execution_count": null,
      "outputs": []
    },
    {
      "cell_type": "code",
      "source": [
        "consump_op['PF'] = path_pf.loc[list(consump_op.index)]['Total']\n",
        "consump_ip['PF'] = path_pf.loc[list(consump_ip.index)]['Total']"
      ],
      "metadata": {
        "id": "4D5oBwely4-y"
      },
      "execution_count": null,
      "outputs": []
    },
    {
      "cell_type": "code",
      "source": [
        "t1 = datetime.strptime('23:30:00', '%H:%M:%S').time()\n",
        "t2 = datetime.strptime('06:30:00', '%H:%M:%S').time()"
      ],
      "metadata": {
        "id": "4G3UwqIc12Qj"
      },
      "execution_count": null,
      "outputs": []
    },
    {
      "cell_type": "code",
      "source": [
        "# There´s a norma proposed by ANEEL called: Normative Resolution n° 1000.\n",
        "# It contains the calculus of over reactive, used in expression below.\n",
        "\n",
        "over_ip = consump_ip.apply(lambda x: (x['consump_high']*(0.92/abs(x['PF'])-1)) if ((x['PF']<0.92) & (x['PF']>0) & ((x['Time']<t1) & (x['Time']>t2))) | ((x['PF']>-0.92) & (x['PF']<0) & ((x['Time']>t1) | (x['Time']<t2))) else 0 , axis=1)\n",
        "over_op = consump_op.apply(lambda x: (x['consump_low']*(0.92/abs(x['PF'])-1)) if ((x['PF']<0.92) & (x['PF']>0) & ((x['Time']<t1) & (x['Time']>t2))) | ((x['PF']>-0.92) & (x['PF']<0) & ((x['Time']>t1) | (x['Time']<t2))) else 0 , axis=1)"
      ],
      "metadata": {
        "id": "wnolLO1g1MFS"
      },
      "execution_count": null,
      "outputs": []
    },
    {
      "cell_type": "code",
      "source": [
        "over_ip.sum()\n",
        "over_op.sum()"
      ],
      "metadata": {
        "id": "UNIsung66sBp"
      },
      "execution_count": null,
      "outputs": []
    },
    {
      "cell_type": "code",
      "source": [
        "consump_ip['consump_low'].sum()"
      ],
      "metadata": {
        "id": "ZKUPgJId6sVO"
      },
      "execution_count": null,
      "outputs": []
    }
  ]
}